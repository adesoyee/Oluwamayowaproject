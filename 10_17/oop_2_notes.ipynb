{
 "cells": [
  {
   "cell_type": "markdown",
   "metadata": {},
   "source": [
    "## Review\n",
    "\n",
    "We want to continue developing the bank account CLI from last week. While our previous solution was great for doing one discrete action on our account balance, we want to make sure that this we continuously prompt the console for input, until we receive input that indicates that we would like to exit.\n",
    "\n",
    "Furthermore, we want to make sure that we do not withdraw more than we have available.\n",
    "\n",
    "To complete this program, we will take our previous code and add more control-flow structures such as while-loops and conditionals. Just as before, we will start with some preset account balance."
   ]
  },
  {
   "cell_type": "markdown",
   "metadata": {},
   "source": [
    "Example Output\n",
    "```\n",
    "Account balance: 850.33\n",
    "\n",
    "What would you like to do? Type (W) for withdraw, (D) for deposit, or (E) for exit. D\n",
    "\n",
    "How much would you like to deposit? 200\n",
    "\n",
    "Account Balance: 1050.33\n",
    "\n",
    "What would you like to do? Type (W) for withdraw, (D) for deposit, or (E) for exit. W\n",
    "\n",
    "How much would you like to withdraw? 1200\n",
    "\n",
    "Error. Cannot withdraw more than balance. \n",
    "\n",
    "What would you like to do? Type (W) for withdraw, (D) for deposit, or (E) for exit. E\n",
    "\n",
    "Goodbye.\n",
    "\n",
    "```"
   ]
  },
  {
   "cell_type": "code",
   "execution_count": 7,
   "metadata": {},
   "outputs": [
    {
     "name": "stdout",
     "output_type": "stream",
     "text": [
      "Account balance: 850.33\n",
      "Account balance: 650.33\n",
      "Account balance: 850.33\n",
      "Account balance: 1150.33\n",
      "Account balance: 850.33\n",
      "Not recognized. Try again.\n",
      "Account balance: 1150.33\n"
     ]
    }
   ],
   "source": [
    "balance = 850.33\n",
    "# create the decision variable to be nothing at first\n",
    "decision = \"\"\n",
    "while decision != \"Exit\":\n",
    "    print(\"Account balance:\", balance)\n",
    "\n",
    "    decision = input(\"What would you like to do? Type (W) for withdraw or (D) for deposit, (E) for exit.\")\n",
    "    decision = decision.upper()\n",
    "    if decision == \"W\":\n",
    "        withdraw = float(input(\"How much would you like to withdraw?\"))\n",
    "        if withdraw > balance:\n",
    "            print(\"Error. Insufficient Funds.\")\n",
    "            continue\n",
    "        balance = balance - withdraw\n",
    "    elif decision == \"D\":\n",
    "        deposit = float(input(\"How much would you like to deposit?\"))\n",
    "        balance = balance + deposit\n",
    "    else:\n",
    "        print(\"Not recognized. Try again.\")\n",
    "\n",
    "    print(\"Account balance:\", balance)"
   ]
  },
  {
   "cell_type": "markdown",
   "metadata": {},
   "source": [
    "The majority of the work is done already. All we need to figure out is how we can loop until the 'E' input is given.\n",
    "\n",
    "Whenever we want to deal with a conditional loop, we always want to use a `while` statement.\n",
    "\n",
    "However, this program indicates that our loop can loop indefintley if the 'E' input is never given. To start off, let's create a `while True` loop to reflect this as well."
   ]
  },
  {
   "cell_type": "code",
   "execution_count": null,
   "metadata": {},
   "outputs": [],
   "source": [
    "balance = 850.33\n",
    "\n",
    "while True:\n",
    "    print(\"Account balance:\", balance)\n",
    "\n",
    "    decision = input(\"What would you like to do? Type (W) for withdraw or (D) for deposit.\")\n",
    "    decision = decision.upper()\n",
    "    if decision == \"W\":\n",
    "        withdraw = float(input(\"How much would you like to withdraw?\"))\n",
    "        new_balance = balance - withdraw\n",
    "    elif decision == \"D\":\n",
    "        deposit = float(input(\"How much would you like to deposit?\"))\n",
    "        new_balance = balance + deposit\n",
    "    else:\n",
    "        print(\"Not recognized. Try again.\")\n",
    "\n",
    "    print(\"Account balance:\", new_balance)"
   ]
  },
  {
   "cell_type": "markdown",
   "metadata": {},
   "source": [
    "Here, we simply add in a `while True` loop to the very top of our logic, and indent all the other subsequent lines of code.\n",
    "\n",
    "However, this will result in the loop continuing on indefinitley without an easy way to exit. Let's add in one more conditional to check for 'E' for when we should be exiting:"
   ]
  },
  {
   "cell_type": "code",
   "execution_count": null,
   "metadata": {},
   "outputs": [],
   "source": [
    "balance = 850.33\n",
    "\n",
    "while True:\n",
    "    print(\"Account balance:\", balance)\n",
    "\n",
    "    decision = input(\"What would you like to do? Type (W) for withdraw or (D) for deposit.\")\n",
    "    decision = decision.upper()\n",
    "    if decision == \"W\":\n",
    "        withdraw = float(input(\"How much would you like to withdraw?\"))\n",
    "        new_balance = balance - withdraw\n",
    "    elif decision == \"D\":\n",
    "        deposit = float(input(\"How much would you like to deposit?\"))\n",
    "        new_balance = balance + deposit\n",
    "    elif decision == \"E\":\n",
    "    else:\n",
    "        print(\"Not recognized. Try again.\")\n",
    "\n",
    "    print(\"Account balance:\", new_balance)"
   ]
  },
  {
   "cell_type": "markdown",
   "metadata": {},
   "source": [
    "To the question of \"what\" should be placed inside of this conditional, we will need our `break` statement in order to \"break\" out of this loop once we detect that the `decision` variable is equal to `E`."
   ]
  },
  {
   "cell_type": "code",
   "execution_count": null,
   "metadata": {},
   "outputs": [],
   "source": [
    "balance = 850.33\n",
    "\n",
    "while True:\n",
    "    print(\"Account balance:\", balance)\n",
    "\n",
    "    decision = input(\"What would you like to do? Type (W) for withdraw or (D) for deposit.\")\n",
    "    decision = decision.upper()\n",
    "    if decision == \"W\":\n",
    "        withdraw = float(input(\"How much would you like to withdraw?\"))\n",
    "        new_balance = balance - withdraw\n",
    "    elif decision == \"D\":\n",
    "        deposit = float(input(\"How much would you like to deposit?\"))\n",
    "        new_balance = balance + deposit\n",
    "    elif decision == \"E\":\n",
    "        break\n",
    "    else:\n",
    "        print(\"Not recognized. Try again.\")\n",
    "\n",
    "    print(\"Account balance:\", new_balance)"
   ]
  },
  {
   "cell_type": "markdown",
   "metadata": {},
   "source": [
    "Great! Now we have an infinitley loop with the ability to exit whenever we want. Let's take this a step further and check if the amount being withdrawn is a valid amount, i.e. it is not more than our balance.\n",
    "\n",
    "Since we are handling the \"withdraw\" logic inside of the `decision == \"W\"` conditional, let's include another conditional to check if the amount being withdrawn is appropriate. We can incorperate a variety of checks, but for now we will settle on just checking if withdraw is greater than amount. If it is, we will `continue` the loop, if it's not, we will allow the specified amount to be withdrawn.\n",
    "\n",
    "In the interest of flattening our code, we can actually omit the `else` statement, since `continue` will ensure that we never reach that code if `withdraw > balance` is true."
   ]
  },
  {
   "cell_type": "code",
   "execution_count": null,
   "metadata": {},
   "outputs": [],
   "source": [
    "balance = 850.33\n",
    "\n",
    "while True:\n",
    "    print(\"Account balance:\", balance)\n",
    "\n",
    "    decision = input(\"What would you like to do? Type (W) for withdraw or (D) for deposit.\")\n",
    "    decision = decision.upper()\n",
    "    if decision == \"W\":\n",
    "        withdraw = float(input(\"How much would you like to withdraw?\"))\n",
    "        if withdraw > balance:\n",
    "            continue\n",
    "        new_balance = balance - withdraw\n",
    "    elif decision == \"D\":\n",
    "        deposit = float(input(\"How much would you like to deposit?\"))\n",
    "        new_balance = balance + deposit\n",
    "    elif decision == \"E\":\n",
    "        break\n",
    "    else:\n",
    "        print(\"Not recognized. Try again.\")\n",
    "\n",
    "    print(\"Account balance:\", new_balance)"
   ]
  },
  {
   "cell_type": "markdown",
   "metadata": {},
   "source": [
    "## Objectifying an Account Balance\n",
    "\n",
    "Consider how can we hide this logic and data? What concept's have we learned about last week that will contextualize these variables, functionality, and on top of that, allow us to document. We will implement this tomorrow."
   ]
  },
  {
   "cell_type": "markdown",
   "metadata": {},
   "source": [
    "## Classes Review\n",
    "\n",
    "Classes are written blueprint for objects that we create ourselves! Whereas objects are created bundles of real data. We instantiate objects by calling a class constructor.\n",
    "\n",
    "Classes are composed of:\n",
    "* Class definition\n",
    "* Docstring\n",
    "* Constructor\n",
    "* Methods"
   ]
  },
  {
   "cell_type": "code",
   "execution_count": null,
   "metadata": {},
   "outputs": [],
   "source": [
    "class Fellow:\n",
    "\t\"\"\"Class to describe a fellow\n",
    "\n",
    "\tAttributes\n",
    "\t—---------\n",
    "\n",
    "\tMethods\n",
    "\t—------\n",
    "\t\n",
    "\t\"\"\"\n",
    "    # here we are setting the default param to be [] for familiars\n",
    "\tdef __init__(self, name, track, familiars=[]):\n",
    "\t\tself.name = name\n",
    "\t\tself.track = track\n",
    "\t\tself.familiars = familiars"
   ]
  },
  {
   "cell_type": "markdown",
   "metadata": {},
   "source": [
    "## Mental Model of this class\n",
    "![image](https://user-images.githubusercontent.com/26397102/195447645-25626704-caef-4a66-a49e-3ea34bc311ee.png)\n"
   ]
  },
  {
   "cell_type": "markdown",
   "metadata": {},
   "source": [
    "## Creating an Object\n",
    "\n",
    "Once we've declared our class, we can create an object through the following lines of code. Thinking of this in terms of our mental model, imagine that each blank space is now filled out with our passed values.\n",
    "\n",
    "Once we've created this object, we can then refer to its attributes using the dot notation. We can even change value of attributes."
   ]
  },
  {
   "cell_type": "code",
   "execution_count": null,
   "metadata": {},
   "outputs": [],
   "source": [
    "person = Fellow(\"Bob\", \"DS\", [\"Tom\", \"Kevin\"])\n",
    "# get person name\n",
    "print(person.name)\n",
    "\n",
    "# get person track\n",
    "print(person.track)\n",
    "\n",
    "# get person familiars\n",
    "print(person.familiars)\n",
    "\n",
    "# change person name\n",
    "person.name = \"Stanley\""
   ]
  },
  {
   "cell_type": "markdown",
   "metadata": {},
   "source": [
    "## Adding Methods to classes\n",
    "\n",
    "Same concept as creating a function, but this time we \"anchor\" methods to a class using the `self` keyword. `self`, in reality, is a keyword that represents the object itself. By specifying it in our class, we prepare ourselves for object creation."
   ]
  },
  {
   "cell_type": "code",
   "execution_count": 2,
   "metadata": {},
   "outputs": [],
   "source": [
    "from __future__ import annotations\n",
    "import csv\n",
    "import math\n",
    "\n",
    "class Fellow:\n",
    "\t\"\"\"Class to describe a fellow\n",
    "\n",
    "\tAttributes\n",
    "\t—---------\n",
    "\n",
    "\tMethods\n",
    "\t—------\n",
    "\t\n",
    "\t\"\"\"\n",
    "    # here we are setting the default param to be [] for familiars\n",
    "\tdef __init__(self, name, track, familiars=[]):\n",
    "\t\tself.name = name\n",
    "\t\tself.track = track\n",
    "\t\tself.familiars = familiars\n",
    "\n",
    "\tdef in_common(self, other_fellow):\n",
    "\t\tnew_list = []\n",
    "\t\tfor person in self.familiars:\n",
    "\t\t\tif person in other_fellow.familiars:\n",
    "\t\t\t\tnew_list .append(person)\n",
    "\t\treturn new_list\n",
    "\n",
    "class Staff:\n",
    "\tdef __init__(self, fellow: Fellow):\n",
    "\t\tself.fellow = fellow"
   ]
  },
  {
   "cell_type": "markdown",
   "metadata": {},
   "source": [
    "## Updated Mental Model\n",
    "\n",
    "![image](https://user-images.githubusercontent.com/26397102/195448895-889082b8-aeee-4b3d-96f2-33313e05a012.png)"
   ]
  },
  {
   "cell_type": "markdown",
   "metadata": {},
   "source": [
    "## The 3 Main Data Classifications\n",
    "\n",
    "1. Primitives (single pieces of data)\n",
    " * int\n",
    " * bool\n",
    " * char\n",
    " * float\n",
    "\n",
    "2. Data Structs (organized data)\n",
    " * lists\n",
    " * sets\n",
    " * dictionaries\n",
    " * tuples\n",
    "\n",
    "3. Objects (data with methods)\n",
    " * pathlib.Path()\n",
    " * csv.reader()\n",
    " * str()\n",
    "\n",
    "Secretly these are all classes. How you treat a data type is up to the needs of your program! If you are not calling methods from an int, then just treat it like a primitive!\n",
    "\n",
    "This is the power of Python. However, there is a downside: large overhead. Since we are playing around with entire objects, this results in \"heavy-set\" programs.\n",
    "\n",
    "If this usage bothers you, we highly recommend you pick up C++ for \"lightweight\" programming.\n",
    "\n",
    "https://www.w3schools.com/cpp/cpp_intro.asp\n",
    "\n",
    "```cpp\n",
    "int main() {\n",
    "  int x = 5;\n",
    "  int y = 10;\n",
    "  std::cout << x + y << std::endl;\n",
    "}\n",
    "```"
   ]
  },
  {
   "cell_type": "markdown",
   "metadata": {},
   "source": [
    "## Data Types\n",
    "\n",
    "Each distinct bullet-point up above is its own type!\n",
    "\n",
    "This is why when we do type-hinting, and we pass in entire object, we specify that class as the type!"
   ]
  },
  {
   "cell_type": "code",
   "execution_count": 4,
   "metadata": {},
   "outputs": [
    {
     "name": "stdout",
     "output_type": "stream",
     "text": [
      "<class 'int'>\n",
      "<class 'float'>\n",
      "<class '_csv.reader'>\n",
      "<class 'list'>\n",
      "<class '__main__.Fellow'>\n"
     ]
    }
   ],
   "source": [
    "import csv\n",
    "\n",
    "x = 5\n",
    "print(type(x))\n",
    "\n",
    "y = 10.5\n",
    "print(type(y))\n",
    "\n",
    "read = csv.reader(\"test.csv\")\n",
    "print(type(read))\n",
    "\n",
    "lst = []\n",
    "print(type(lst))\n",
    "\n",
    "person = Fellow(\"bob\", \"ds\")\n",
    "print(type(person))\n"
   ]
  },
  {
   "cell_type": "markdown",
   "metadata": {},
   "source": [
    "## Class DocString\n",
    "\n",
    "When writing the docstring for our class, we must include the following:\n",
    "\n",
    "* Class Description\n",
    " * Quick description of class.\n",
    "\n",
    "* Class Attributes\n",
    " * List of attributes that the class creates\n",
    "\n",
    "* Class Methods\n",
    " * List of class methods and what they do\t\n",
    "\n",
    "Writing this docstring removes the need for the function docstring. Our docstring will follow the following template. The square brackets represent text we need to represent with real information & descriptions.\n",
    "\n",
    "The section headers titled `Attributes` and `Methods` must remain!\n",
    "\n",
    "```\n",
    "    \"\"\"[description]\n",
    "\n",
    "\tAttributes\n",
    "\t—---------\n",
    "\t[name] : [type]\n",
    "\t\t[description]\n",
    "\n",
    "\tMethods\n",
    "\t—------\n",
    "\t[function definition]:\n",
    "\t\t[description]\n",
    "\t\"\"\"\n",
    "```"
   ]
  },
  {
   "cell_type": "code",
   "execution_count": 17,
   "metadata": {},
   "outputs": [],
   "source": [
    "class Fellow:\n",
    "\t\"\"\"Class to describe a fellow\n",
    "\n",
    "\tAttributes\n",
    "\t—---------\n",
    "\tname : str\n",
    "\t\tName of fellow\n",
    "\ttrack : str\n",
    "\t\tName of track\n",
    "\tfamiliars : list\n",
    "\t\tList of people fellow knows\n",
    "\n",
    "\tMethods\n",
    "\t—------\n",
    "\tin_common(other_fellow):\n",
    "\t\tFunction that returns list of people this fellow has in \n",
    "\t\tcommon with “other_fellow” Fellow object\n",
    "\t\"\"\"\n",
    "    # here we are setting the default param to be [] for familiars\n",
    "\tdef __init__(self, name, track, familiars=[]):\n",
    "\t\tself.name = name\n",
    "\t\tself.track = track\n",
    "\t\tself.familiars = familiars\n",
    "\n",
    "\tdef in_common(self, other_fellow):\n",
    "\t\tnew_list = []\n",
    "\t\tfor person in self.familiars:\n",
    "\t\t\tif person in other_fellow.familiars:\n",
    "\t\t\t\tnew_list .append(person)\n",
    "\t\treturn new_list\n",
    "\t\n",
    "\tdef get_info(self):\n",
    "\t\treturn self.name + \" is in \" + self.track"
   ]
  },
  {
   "cell_type": "markdown",
   "metadata": {},
   "source": [
    "## Class Inheritance\n",
    "\n",
    "* We are always looking for opportunities to reuse code.\n",
    "\n",
    "* This functionality comes built in with Python classes.\n",
    "\n",
    "* We can pass down functionality from a parent class to a child class.\n",
    "\n",
    "Let's say we have our Fellow() class. What if we also want to create a class that represents staff? Staff will also have names, track, & familiars, but will also have a param representing office-hours (str).\n",
    "\n",
    "Do we really need to rewrite all this functionality? No! We can simply \"inherit\" from Fellow\n"
   ]
  },
  {
   "cell_type": "code",
   "execution_count": 15,
   "metadata": {},
   "outputs": [
    {
     "data": {
      "text/plain": [
       "'rob is in DS'"
      ]
     },
     "execution_count": 15,
     "metadata": {},
     "output_type": "execute_result"
    }
   ],
   "source": [
    "class Staff(Fellow):\n",
    "    \"\"\"Class to describe a staff-member. Inherits from Fellow.\n",
    "\n",
    "\tAttributes\n",
    "\t—---------\n",
    "\n",
    "\tMethods\n",
    "\t—------\n",
    "\t\n",
    "\t\"\"\"\n",
    "    def __init__(self, name, track, familiars, hours):\n",
    "\t\t# call super constructor, type cast as super class and init\n",
    "        super().__init__(name, track, familiars)\n",
    "        self.hours = hours\n",
    "\n",
    "test = Staff(\"rob\", \"DS\", [], \"8:00 - 10:00\")\n",
    "test.get_info()"
   ]
  },
  {
   "cell_type": "markdown",
   "metadata": {},
   "source": [
    "## Hierarchy\n",
    "\n",
    "This sets up a hierarchy where the class Fellow passes down to class Staff.\n",
    "\n",
    "```\n",
    "Fellow\n",
    " |\n",
    " |\n",
    " |\n",
    " V\n",
    "Staff\n",
    "\n",
    "```\n",
    "\n",
    "We can have multiple subclasses for maximal reuse."
   ]
  },
  {
   "cell_type": "code",
   "execution_count": 21,
   "metadata": {},
   "outputs": [
    {
     "name": "stdout",
     "output_type": "stream",
     "text": [
      "phil is in DS\n",
      "[]\n"
     ]
    }
   ],
   "source": [
    "class AsyncFellow(Fellow):\n",
    "\t\"\"\"Class to describe asynchronous fellow. Inherits from Fellow.\n",
    "\n",
    "\tAttributes\n",
    "\t—---------\n",
    "\n",
    "\tMethods\n",
    "\t—------\n",
    "\t\n",
    "\t\"\"\"\n",
    "\tdef __init__(self, name, track):\n",
    "\t\tsuper(AsyncFellow, self).__init__(name, track)\n",
    "\n",
    "test2 = AsyncFellow(\"phil\", \"DS\")\n",
    "print(test2.get_info())\n",
    "print(test2.familiars)"
   ]
  },
  {
   "cell_type": "markdown",
   "metadata": {},
   "source": [
    "```\n",
    "Fellow\n",
    " |\n",
    " |_____________\n",
    " |            | \n",
    " V            V\n",
    "Staff         AsyncFellow\n",
    "\n",
    "```"
   ]
  },
  {
   "cell_type": "markdown",
   "metadata": {},
   "source": [
    "## Overriding Methods\n",
    "\n",
    "Sometimes we want to give our inherited methods new behavior. To do this, we simply rewrite the method name and write new code underneath the method definition. We can also attach the decorator `@override` optionally.\\\n",
    "\n",
    "Let's say we want to print \"staff\" out in a specific way. We should therefore redefine `get_info` with the same exact parameter list. This will change the behavior of staff."
   ]
  },
  {
   "cell_type": "code",
   "execution_count": null,
   "metadata": {},
   "outputs": [],
   "source": [
    "class Staff(Fellow):\n",
    "    \"\"\"Class to describe a staff-member. Inherits from Fellow.\n",
    "\n",
    "\tAttributes\n",
    "\t—---------\n",
    "\n",
    "\tMethods\n",
    "\t—------\n",
    "\t\n",
    "\t\"\"\"\n",
    "    def __init__(self, name, track, familiars, hours):\n",
    "\t\t# call super constructor, type cast as super class and init\n",
    "        super(Staff, self).__init__(name, track, familiars)\n",
    "        self.hours = hours\n",
    "\t\n",
    "    def get_info(self):\n",
    "        return \"STAFF: \" + self.name + \" is in \" + self.track\n",
    "\n",
    "test = Staff(\"rob\", \"DS\", [], \"8:00 - 10:00\")\n",
    "test.get_info()"
   ]
  },
  {
   "cell_type": "markdown",
   "metadata": {},
   "source": [
    "## More Info about OOP\n",
    "\n",
    "https://docs.python.org/3/tutorial/classes.html"
   ]
  }
 ],
 "metadata": {
  "kernelspec": {
   "display_name": "Python 3.10.7 64-bit",
   "language": "python",
   "name": "python3"
  },
  "language_info": {
   "codemirror_mode": {
    "name": "ipython",
    "version": 3
   },
   "file_extension": ".py",
   "mimetype": "text/x-python",
   "name": "python",
   "nbconvert_exporter": "python",
   "pygments_lexer": "ipython3",
   "version": "3.10.7"
  },
  "orig_nbformat": 4,
  "vscode": {
   "interpreter": {
    "hash": "369f2c481f4da34e4445cda3fffd2e751bd1c4d706f27375911949ba6bb62e1c"
   }
  }
 },
 "nbformat": 4,
 "nbformat_minor": 2
}
