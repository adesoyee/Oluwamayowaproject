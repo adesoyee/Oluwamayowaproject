{
 "cells": [
  {
   "cell_type": "markdown",
   "metadata": {},
   "source": [
    "## Debugging\n",
    "\n",
    "How do we solve these bugs? There is usually a workflow to this sort of problem-solving.\n",
    "\n",
    "1. Observe error or incorrect output.\n",
    "\n",
    "2. Formulate a fix in your mind (hypothesis). Make sure that you could defend this idea!\n",
    "\t(in this case, some variable needs to be type-casted)\n",
    "\n",
    "3. Implement fix and run. Loop as needed.\n",
    "\n",
    "How do you formulate a fix?\n",
    "\n",
    "Multiple methods:\n",
    "* Google error message.\n",
    "\n",
    "* Walk through your program out loud. “Rubber duck debugging.” https://en.wikipedia.org/wiki/Rubber_duck_debugging \n",
    "\n",
    "* Change input (if applicable).\n"
   ]
  },
  {
   "cell_type": "code",
   "execution_count": 1,
   "metadata": {},
   "outputs": [
    {
     "ename": "TypeError",
     "evalue": "can only concatenate str (not \"int\") to str",
     "output_type": "error",
     "traceback": [
      "\u001b[1;31m---------------------------------------------------------------------------\u001b[0m",
      "\u001b[1;31mTypeError\u001b[0m                                 Traceback (most recent call last)",
      "\u001b[1;32mc:\\Users\\saidmf\\Desktop\\TKH\\DS_22\\phase_1\\week_7\\10_25\\python_review_II_notes.ipynb Cell 2\u001b[0m in \u001b[0;36m<cell line: 4>\u001b[1;34m()\u001b[0m\n\u001b[0;32m      <a href='vscode-notebook-cell:/c%3A/Users/saidmf/Desktop/TKH/DS_22/phase_1/week_7/10_25/python_review_II_notes.ipynb#W1sZmlsZQ%3D%3D?line=0'>1</a>\u001b[0m x \u001b[39m=\u001b[39m \u001b[39m\"\u001b[39m\u001b[39mhello\u001b[39m\u001b[39m\"\u001b[39m\n\u001b[0;32m      <a href='vscode-notebook-cell:/c%3A/Users/saidmf/Desktop/TKH/DS_22/phase_1/week_7/10_25/python_review_II_notes.ipynb#W1sZmlsZQ%3D%3D?line=1'>2</a>\u001b[0m y \u001b[39m=\u001b[39m \u001b[39m5\u001b[39m\n\u001b[1;32m----> <a href='vscode-notebook-cell:/c%3A/Users/saidmf/Desktop/TKH/DS_22/phase_1/week_7/10_25/python_review_II_notes.ipynb#W1sZmlsZQ%3D%3D?line=3'>4</a>\u001b[0m x \u001b[39m+\u001b[39;49m y\n",
      "\u001b[1;31mTypeError\u001b[0m: can only concatenate str (not \"int\") to str"
     ]
    }
   ],
   "source": [
    "x = \"hello\"\n",
    "y = 5\n",
    "\n",
    "x + y"
   ]
  },
  {
   "cell_type": "markdown",
   "metadata": {},
   "source": [
    "## Syntax Debugging Review (Syntax)\n",
    "What do we need to change here?"
   ]
  },
  {
   "cell_type": "code",
   "execution_count": 2,
   "metadata": {},
   "outputs": [
    {
     "ename": "AttributeError",
     "evalue": "'list' object has no attribute 'add'",
     "output_type": "error",
     "traceback": [
      "\u001b[1;31m---------------------------------------------------------------------------\u001b[0m",
      "\u001b[1;31mAttributeError\u001b[0m                            Traceback (most recent call last)",
      "\u001b[1;32mc:\\Users\\saidmf\\Desktop\\TKH\\DS_22\\phase_1\\week_7\\10_25\\python_review_II_notes.ipynb Cell 4\u001b[0m in \u001b[0;36m<cell line: 3>\u001b[1;34m()\u001b[0m\n\u001b[0;32m      <a href='vscode-notebook-cell:/c%3A/Users/saidmf/Desktop/TKH/DS_22/phase_1/week_7/10_25/python_review_II_notes.ipynb#W3sZmlsZQ%3D%3D?line=0'>1</a>\u001b[0m x \u001b[39m=\u001b[39m [\u001b[39m1\u001b[39m, \u001b[39m2\u001b[39m, \u001b[39m3\u001b[39m, \u001b[39m4\u001b[39m, \u001b[39m5\u001b[39m]\n\u001b[1;32m----> <a href='vscode-notebook-cell:/c%3A/Users/saidmf/Desktop/TKH/DS_22/phase_1/week_7/10_25/python_review_II_notes.ipynb#W3sZmlsZQ%3D%3D?line=2'>3</a>\u001b[0m x\u001b[39m.\u001b[39;49madd(\u001b[39m\"\u001b[39m\u001b[39mz\u001b[39m\u001b[39m\"\u001b[39m)\n\u001b[0;32m      <a href='vscode-notebook-cell:/c%3A/Users/saidmf/Desktop/TKH/DS_22/phase_1/week_7/10_25/python_review_II_notes.ipynb#W3sZmlsZQ%3D%3D?line=4'>5</a>\u001b[0m \u001b[39mprint\u001b[39m(x)\n",
      "\u001b[1;31mAttributeError\u001b[0m: 'list' object has no attribute 'add'"
     ]
    }
   ],
   "source": [
    "x = [1, 2, 3, 4, 5]\n",
    "# add \"z\" to x list\n",
    "x.add(\"z\")\n",
    "\n",
    "print(x)"
   ]
  },
  {
   "cell_type": "markdown",
   "metadata": {},
   "source": [
    "## Logic Debugging Example (Semantics)\n",
    "Syntax is correct, but what do we need to change here?"
   ]
  },
  {
   "cell_type": "code",
   "execution_count": 3,
   "metadata": {},
   "outputs": [
    {
     "name": "stdout",
     "output_type": "stream",
     "text": [
      "['The Power of Habit', 'The Mind Club', 'Mans Search for Meaning']\n"
     ]
    }
   ],
   "source": [
    "order_list = [\"The Power of Habit\", \"Mans Search for Meaning\", \"The Mind Club\"]\n",
    "\n",
    "# swap first book for last book\n",
    "order_list[1], order_list[-1] = order_list[-1], order_list[1]\n",
    "\n",
    "print(order_list)"
   ]
  },
  {
   "cell_type": "markdown",
   "metadata": {},
   "source": [
    "## For Loops Review\n",
    "\n",
    "Whereas while-loops are designed to keep looping until something is false, for-loops are designed to loop until we have nothing more to loop through. The structure is:\n",
    "\n",
    "`for var in iterable:`\n",
    "An “iterable” is anything that can be “iterated” through or “looped” through. Any type of data that is composed of individual elements. This could be:\n",
    "* A list\n",
    "* The “range” function\n",
    "* A set\n",
    "* A dictionary\n",
    "* A string"
   ]
  },
  {
   "cell_type": "code",
   "execution_count": null,
   "metadata": {},
   "outputs": [],
   "source": [
    "for i in range(5):\n",
    "    print(i)\n",
    "\n",
    "\n",
    "for i in range (5, 10):\n",
    "    print(i)\n",
    "\n",
    "\n",
    "for i in range(0, 10, 2):\n",
    "    print(i)\n",
    "\n",
    "\n",
    "# How do I create a sequence of numbers 5 through 15, counting by 3? "
   ]
  },
  {
   "cell_type": "code",
   "execution_count": 5,
   "metadata": {},
   "outputs": [
    {
     "name": "stdout",
     "output_type": "stream",
     "text": [
      "a\n",
      "b\n",
      "c\n",
      "d\n",
      "\n",
      "\n",
      "c\n",
      "a\n",
      "d\n",
      "b\n"
     ]
    }
   ],
   "source": [
    "alpha = [\"a\", \"b\", \"c\", \"d\"]\n",
    "for letter in alpha:\n",
    "    print(letter)\n",
    "print(\"\\n\")\n",
    "alpha_set = {\"a\", \"b\", \"c\", \"d\"}\n",
    "for letter in alpha_set:\n",
    "    print(letter)\n",
    "\n",
    "alpha_dict = {\"a\": 1, \"b\": 2, \"c\": 3, \"d\": 4}\n",
    "# How do i get each key of alpha_dict?"
   ]
  },
  {
   "cell_type": "markdown",
   "metadata": {},
   "source": [
    "## Data Structs Review\n",
    "\n",
    "\n",
    "We use data-structures to group together individual data. There are 3 basic data structures we should know:\n",
    "\n",
    "* Lists (AKA Arrays)\n",
    "* Sets \n",
    "* Dictionaries (AKA HashMaps)"
   ]
  },
  {
   "cell_type": "markdown",
   "metadata": {},
   "source": [
    "## Lists Review\n",
    "\n",
    "Lists are created with the square-brackets “[]”. They are:\n",
    "\n",
    "* Mutable (can be changed)\n",
    "* Sequenced (we can access its elements using an index)\n",
    "* https://docs.python.org/3/tutorial/datastructures.html#more-on-lists "
   ]
  },
  {
   "cell_type": "code",
   "execution_count": 7,
   "metadata": {},
   "outputs": [
    {
     "name": "stdout",
     "output_type": "stream",
     "text": [
      "The Power of Habit\n"
     ]
    },
    {
     "data": {
      "text/plain": [
       "['The Age of Spiritual Machines',\n",
       " 'Mans Search for Meaning',\n",
       " 'The Mind Club',\n",
       " 'Algorithms']"
      ]
     },
     "execution_count": 7,
     "metadata": {},
     "output_type": "execute_result"
    }
   ],
   "source": [
    "order_list = [\"The Power of Habit\", \"Mans Search for Meaning\", \"The Mind Club\"]\n",
    "\n",
    "print(order_list[0])\n",
    "order_list[0] = \"The Age of Spiritual Machines\"\n",
    "\n",
    "order_list.append(\"Algorithms\")\n",
    "order_list"
   ]
  },
  {
   "cell_type": "markdown",
   "metadata": {},
   "source": [
    "## Sets Review\n",
    "\n",
    "Sets are created with the curly-brackets “{}”. They are:\n",
    "\n",
    "* Mutable (can be changed)\n",
    "* Not Sequenced (cannot access using index!)\n",
    "* Only contain unique values\n",
    "* https://docs.python.org/3/tutorial/datastructures.html#sets\n"
   ]
  },
  {
   "cell_type": "code",
   "execution_count": null,
   "metadata": {},
   "outputs": [],
   "source": [
    "order_set = {\"The Power of Habit\", \"Mans Search for Meaning\", \"The Mind Club\"}\n",
    "\n",
    "order_set.add(\"Algorithms\")\n",
    "order_set"
   ]
  },
  {
   "cell_type": "markdown",
   "metadata": {},
   "source": [
    "## Dictionaires Review\n",
    "\n",
    "Dictionaries are also created with the curly-brackets “{}”. They are:\n",
    "\n",
    "* Mutable (can be changed)\n",
    "* Not Sequenced (cannot access using index!)\n",
    "* Contain key-value pairs\n",
    "* https://docs.python.org/3/tutorial/datastructures.html#dictionaries "
   ]
  },
  {
   "cell_type": "code",
   "execution_count": null,
   "metadata": {},
   "outputs": [],
   "source": [
    "order_dict = {\"The Power of Habit\": 2, \"Mans Search for Meaning\": 1, \"The Mind Club\": 6}\n",
    "\n",
    "order_dict[\"Algorithms\"] = 10\n",
    "order_dict"
   ]
  }
 ],
 "metadata": {
  "kernelspec": {
   "display_name": "Python 3.10.7 64-bit",
   "language": "python",
   "name": "python3"
  },
  "language_info": {
   "codemirror_mode": {
    "name": "ipython",
    "version": 3
   },
   "file_extension": ".py",
   "mimetype": "text/x-python",
   "name": "python",
   "nbconvert_exporter": "python",
   "pygments_lexer": "ipython3",
   "version": "3.10.7"
  },
  "orig_nbformat": 4,
  "vscode": {
   "interpreter": {
    "hash": "369f2c481f4da34e4445cda3fffd2e751bd1c4d706f27375911949ba6bb62e1c"
   }
  }
 },
 "nbformat": 4,
 "nbformat_minor": 2
}
