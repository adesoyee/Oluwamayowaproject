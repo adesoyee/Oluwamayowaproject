{
 "cells": [
  {
   "cell_type": "markdown",
   "metadata": {},
   "source": [
    "## List Comprehension 1\n",
    "\n",
    "Implement the following for-loops with list-comprehension."
   ]
  },
  {
   "cell_type": "code",
   "execution_count": 3,
   "metadata": {},
   "outputs": [
    {
     "name": "stdout",
     "output_type": "stream",
     "text": [
      "[3, 6, 9, 12, 15, 18]\n"
     ]
    }
   ],
   "source": [
    "nums = [1,2,3,4,5,6,7,8,9,10,11,12,13,14,15,16,17,18,19,20]\n",
    "\n",
    "div_3 = []\n",
    "for n in nums:\n",
    "    if n % 3 == 0:\n",
    "        div_3.append(n)\n",
    "\n",
    "# write list comprehension here\n",
    "nums = [1, 2, 3, 4, 5, 6, 7, 8, 9, 10, 11, 12, 13, 14, 15, 16, 17, 18, 19, 20]\n",
    "\n",
    "div_3 = [n for n in nums if n % 3 == 0]\n",
    "print(div_3)\n"
   ]
  },
  {
   "cell_type": "code",
   "execution_count": 2,
   "metadata": {},
   "outputs": [
    {
     "name": "stdout",
     "output_type": "stream",
     "text": [
      "[5, 10, 15, 20]\n"
     ]
    }
   ],
   "source": [
    "div_5 = []\n",
    "for n in nums:\n",
    "    if n % 5 == 0:\n",
    "        div_5.append(n)\n",
    "\n",
    "# write list comprehension here\n",
    "nums = [1, 2, 3, 4, 5, 6, 7, 8, 9, 10, 11, 12, 13, 14, 15, 16, 17, 18, 19, 20]\n",
    "\n",
    "div_5 = [n for n in nums if n % 5 == 0]\n",
    "\n",
    "print(div_5)"
   ]
  },
  {
   "cell_type": "code",
   "execution_count": 4,
   "metadata": {},
   "outputs": [
    {
     "name": "stdout",
     "output_type": "stream",
     "text": [
      "['Amazon bought IMDB', 'Amazon bought Audible']\n"
     ]
    }
   ],
   "source": [
    "articles = [\n",
    "    \"Amazon bought IMDB\",\n",
    "    \"Amazon bought Audible\",\n",
    "    \"Meta bought Instagram\"\n",
    "]\n",
    "\n",
    "amzn_news = []\n",
    "for title in articles:\n",
    "    if \"Amazon\" in title:\n",
    "        amzn_news.append(title)\n",
    "\n",
    "# write list comprehension here\n",
    "        amzn_news = [title for title in articles if \"Amazon\" in title]\n",
    "\n",
    "print(amzn_news)\n"
   ]
  },
  {
   "cell_type": "code",
   "execution_count": 5,
   "metadata": {},
   "outputs": [
    {
     "name": "stdout",
     "output_type": "stream",
     "text": [
      "['Meta bought Instagram']\n"
     ]
    }
   ],
   "source": [
    "meta_news = []\n",
    "for title in articles:\n",
    "    if \"Meta\" in title:\n",
    "        meta_news.append(title)\n",
    "\n",
    "# write list comprehension here\n",
    "meta_news = [title for title in articles if \"Meta\" in title]\n",
    "\n",
    "print(meta_news)"
   ]
  },
  {
   "cell_type": "markdown",
   "metadata": {},
   "source": [
    "## List Comprehension 2\n",
    "\n",
    "Implement the following list-comprehension prompts for scratch"
   ]
  },
  {
   "cell_type": "code",
   "execution_count": 6,
   "metadata": {},
   "outputs": [
    {
     "name": "stdout",
     "output_type": "stream",
     "text": [
      "['Z', 'Y', 'X']\n"
     ]
    }
   ],
   "source": [
    "letters = [\"z\", \"y\", \"x\"]\n",
    "# write list comprehension to capitalize all letters of the above list\n",
    "capitalized_letters = [letter.upper() for letter in letters]\n",
    "\n",
    "print(capitalized_letters)"
   ]
  },
  {
   "cell_type": "code",
   "execution_count": 7,
   "metadata": {},
   "outputs": [
    {
     "name": "stdout",
     "output_type": "stream",
     "text": [
      "[1, 2, 3]\n"
     ]
    }
   ],
   "source": [
    "chars = [\"1\", \"2\", \"3\"]\n",
    "# write list comprehension to transform all str integers int ints\n",
    "integers = [int(char) for char in chars]\n",
    "\n",
    "print(integers)"
   ]
  },
  {
   "cell_type": "code",
   "execution_count": 8,
   "metadata": {},
   "outputs": [
    {
     "name": "stdout",
     "output_type": "stream",
     "text": [
      "[2, 4]\n"
     ]
    }
   ],
   "source": [
    "chars = [1,2,3,4]\n",
    "# write list comprehension to get only even numbers\n",
    "even_numbers = [num for num in chars if num % 2 == 0]\n",
    "\n",
    "print(even_numbers)"
   ]
  },
  {
   "cell_type": "code",
   "execution_count": 9,
   "metadata": {},
   "outputs": [
    {
     "name": "stdout",
     "output_type": "stream",
     "text": [
      "[1, 3]\n"
     ]
    }
   ],
   "source": [
    "chars = [1,2,3,4]\n",
    "# write list comprehension to get only odd numbers\n",
    "odd_numbers= [num for num in chars if num % 2 != 0]\n",
    "print(odd_numbers)"
   ]
  },
  {
   "cell_type": "markdown",
   "metadata": {},
   "source": [
    "## Loops & 2D Data-Structs\n",
    "\n",
    "Implement the following prompts in the comments below in relation to the data-structure that we are given."
   ]
  },
  {
   "cell_type": "code",
   "execution_count": 10,
   "metadata": {},
   "outputs": [
    {
     "name": "stdout",
     "output_type": "stream",
     "text": [
      "[1, 2, 3]\n",
      "[4, 5, 6]\n",
      "[7, 8, 9]\n"
     ]
    }
   ],
   "source": [
    "matrix = [\n",
    "    [1, 2, 3],\n",
    "    [4, 5, 6],\n",
    "    [7, 8, 9]\n",
    "]\n",
    "\n",
    "# print out each row of this list using a for-loop\n",
    "for row in matrix:\n",
    "    print(row)"
   ]
  },
  {
   "cell_type": "code",
   "execution_count": 11,
   "metadata": {},
   "outputs": [
    {
     "name": "stdout",
     "output_type": "stream",
     "text": [
      "[1, 2, 3]\n",
      "[4, 5, 6]\n",
      "[7, 8, 9]\n"
     ]
    }
   ],
   "source": [
    "matrix = [\n",
    "    [1, 2, 3],\n",
    "    [4, 5, 6],\n",
    "    [7, 8, 9]\n",
    "]\n",
    "\n",
    "# print out each integer of each row using a for-loop\n",
    "for row in matrix:\n",
    "    print(row)"
   ]
  },
  {
   "cell_type": "markdown",
   "metadata": {},
   "source": [
    "## Exceptions\n",
    "\n",
    "Implement a try-except block within this code to ensure that we add `10` only to the integers of this list. Otherwise, print out an error message that you've encountered a string in the list."
   ]
  },
  {
   "cell_type": "code",
   "execution_count": 13,
   "metadata": {},
   "outputs": [
    {
     "name": "stdout",
     "output_type": "stream",
     "text": [
      "2\n",
      "3\n",
      "4\n",
      "Error: Cannot perform operation on a.\n",
      "6\n",
      "7\n",
      "Error: Cannot perform operation on b.\n",
      "Error: Cannot perform operation on c.\n",
      "Error: Cannot perform operation on d.\n"
     ]
    }
   ],
   "source": [
    "data = [1, 2, 3, \"a\", 5, 6, \"b\", \"c\", \"d\"]\n",
    "\n",
    "for num in data:\n",
    "    # implement try-except block here\n",
    "    try:\n",
    "        result = num + 1\n",
    "        print(result)\n",
    "    except TypeError:\n",
    "        # Handle the TypeError (e.g., if trying to add a string)\n",
    "        print(f\"Error: Cannot perform operation on {num}.\")"
   ]
  }
 ],
 "metadata": {
  "kernelspec": {
   "display_name": "Python 3.10.7 64-bit",
   "language": "python",
   "name": "python3"
  },
  "language_info": {
   "codemirror_mode": {
    "name": "ipython",
    "version": 3
   },
   "file_extension": ".py",
   "mimetype": "text/x-python",
   "name": "python",
   "nbconvert_exporter": "python",
   "pygments_lexer": "ipython3",
   "version": "3.9.18"
  },
  "orig_nbformat": 4,
  "vscode": {
   "interpreter": {
    "hash": "369f2c481f4da34e4445cda3fffd2e751bd1c4d706f27375911949ba6bb62e1c"
   }
  }
 },
 "nbformat": 4,
 "nbformat_minor": 2
}
