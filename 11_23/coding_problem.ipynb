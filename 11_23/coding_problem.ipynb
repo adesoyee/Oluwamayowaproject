{
 "cells": [
  {
   "cell_type": "markdown",
   "metadata": {},
   "source": [
    "## Anagram\n",
    "\n",
    "Given two strings s and t, create a function called `isAnagram(s, t)` return true if t is an anagram of s, and false otherwise.\n",
    "\n",
    "An Anagram is a word or phrase formed by rearranging the letters of a different word or phrase, typically using all the original letters exactly once.\n",
    "\n",
    "Example 1\n",
    "```\n",
    "Input: s = \"anagram\", t = \"nagaram\"\n",
    "Output: true\n",
    "```\n",
    "\n",
    "Example 2\n",
    "```\n",
    "Input: s = \"rat\", t = \"car\"\n",
    "Output: false\n",
    "```"
   ]
  },
  {
   "cell_type": "code",
   "execution_count": 2,
   "metadata": {},
   "outputs": [
    {
     "name": "stdout",
     "output_type": "stream",
     "text": [
      "Input: s = \"anagram\", t = \"nagaram\"\n",
      "Output: True\n",
      "Input: s = \"rat\", t = \"car\"\n",
      "Output: False\n"
     ]
    }
   ],
   "source": [
    "# write code here\n",
    "def isAnagram(s, t):\n",
    "    if len(s) != len(t):\n",
    "        return False\n",
    "    \n",
    "    char_count_s = {}\n",
    "    char_count_t = {}\n",
    "    \n",
    "    for char in s:\n",
    "        char_count_s[char] = char_count_s.get(char, 0) + 1\n",
    "    \n",
    "    for char in t:\n",
    "        char_count_t[char] = char_count_t.get(char, 0) + 1\n",
    "    \n",
    "    # Compare the character counts\n",
    "    return char_count_s == char_count_t\n",
    "#example \n",
    "s1, t1 = \"anagram\", \"nagaram\"\n",
    "s2, t2 = \"rat\", \"car\"\n",
    "\n",
    "print(f\"Input: s = \\\"{s1}\\\", t = \\\"{t1}\\\"\")\n",
    "print(f\"Output: {isAnagram(s1, t1)}\")\n",
    "\n",
    "print(f\"Input: s = \\\"{s2}\\\", t = \\\"{t2}\\\"\")\n",
    "print(f\"Output: {isAnagram(s2, t2)}\")\n"
   ]
  },
  {
   "cell_type": "code",
   "execution_count": 3,
   "metadata": {},
   "outputs": [
    {
     "name": "stdout",
     "output_type": "stream",
     "text": [
      "Test case 1: True\n",
      "Test case 2: True\n",
      "Test case 3: True\n"
     ]
    }
   ],
   "source": [
    "print(\"Test case 1:\", isAnagram(\"anagram\", \"nagaram\") == True)\n",
    "print(\"Test case 2:\", isAnagram(\"rat\", \"car\") == False)\n",
    "print(\"Test case 3:\", isAnagram(\"rat\", \"ratt\") == False)"
   ]
  }
 ],
 "metadata": {
  "kernelspec": {
   "display_name": "Python 3.10.7 64-bit",
   "language": "python",
   "name": "python3"
  },
  "language_info": {
   "codemirror_mode": {
    "name": "ipython",
    "version": 3
   },
   "file_extension": ".py",
   "mimetype": "text/x-python",
   "name": "python",
   "nbconvert_exporter": "python",
   "pygments_lexer": "ipython3",
   "version": "3.9.18"
  },
  "orig_nbformat": 4,
  "vscode": {
   "interpreter": {
    "hash": "369f2c481f4da34e4445cda3fffd2e751bd1c4d706f27375911949ba6bb62e1c"
   }
  }
 },
 "nbformat": 4,
 "nbformat_minor": 2
}
