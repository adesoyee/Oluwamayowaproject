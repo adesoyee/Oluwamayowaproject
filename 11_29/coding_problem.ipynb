{
 "cells": [
  {
   "cell_type": "markdown",
   "metadata": {},
   "source": [
    "## 1108. Defanging an IP Address\n",
    "\n",
    "Given a valid (IPv4) IP address, return a defanged version of that IP address.\n",
    "\n",
    "A defanged IP address replaces every period \".\" with \"[.]\".\n",
    "\n",
    "Example 1:\n",
    "```\n",
    "Input: address = \"1.1.1.1\"\n",
    "Output: \"1[.]1[.]1[.]1\"\n",
    "```\n",
    "\n",
    "Example 2:\n",
    "```\n",
    "Input: address = \"255.100.50.0\"\n",
    "Output: \"255[.]100[.]50[.]0\"\n",
    "```"
   ]
  },
  {
   "cell_type": "code",
   "execution_count": 3,
   "metadata": {},
   "outputs": [
    {
     "name": "stdout",
     "output_type": "stream",
     "text": [
      "Input: 1.1.1.1\n",
      "Output: 1[.]1[.]1[.]1\n",
      "Input: 255.100.50.0\n",
      "Output: 255[.]100[.]50[.]0\n"
     ]
    }
   ],
   "source": [
    "def defang_ip_address(address):\n",
    "    return address.replace('.', '[.]')\n",
    "\n",
    "# Example usage:\n",
    "ip_address1 = \"1.1.1.1\"\n",
    "ip_address2 = \"255.100.50.0\"\n",
    "\n",
    "defanged_ip1 = defang_ip_address(ip_address1)\n",
    "defanged_ip2 = defang_ip_address(ip_address2)\n",
    "\n",
    "print(f\"Input: {ip_address1}\\nOutput: {defanged_ip1}\")\n",
    "print(f\"Input: {ip_address2}\\nOutput: {defanged_ip2}\")"
   ]
  },
  {
   "cell_type": "code",
   "execution_count": 4,
   "metadata": {},
   "outputs": [
    {
     "name": "stdout",
     "output_type": "stream",
     "text": [
      "Test Case 1: True\n",
      "Test Case 2: True\n",
      "Test Case 3: True\n"
     ]
    }
   ],
   "source": [
    "print(\"Test Case 1:\", defangIPaddr(\"1.1.1.1\") == \"1[.]1[.]1[.]1\")\n",
    "print(\"Test Case 2:\", defangIPaddr(\"255.100.50.0\") == \"255[.]100[.]50[.]0\")\n",
    "print(\"Test Case 3:\", defangIPaddr(\"0\") == \"0\")"
   ]
  }
 ],
 "metadata": {
  "kernelspec": {
   "display_name": "Python 3.10.7 64-bit",
   "language": "python",
   "name": "python3"
  },
  "language_info": {
   "codemirror_mode": {
    "name": "ipython",
    "version": 3
   },
   "file_extension": ".py",
   "mimetype": "text/x-python",
   "name": "python",
   "nbconvert_exporter": "python",
   "pygments_lexer": "ipython3",
   "version": "3.9.18"
  },
  "orig_nbformat": 4,
  "vscode": {
   "interpreter": {
    "hash": "369f2c481f4da34e4445cda3fffd2e751bd1c4d706f27375911949ba6bb62e1c"
   }
  }
 },
 "nbformat": 4,
 "nbformat_minor": 2
}
