{
 "cells": [
  {
   "cell_type": "code",
   "execution_count": 1,
   "metadata": {},
   "outputs": [],
   "source": [
    "import numpy as np\n",
    "import statsmodels as stats\n",
    "import matplotlib.pyplot as plt\n",
    "import pandas as pd\n",
    "\n"
   ]
  },
  {
   "cell_type": "code",
   "execution_count": 2,
   "metadata": {},
   "outputs": [],
   "source": [
    "# Generate 2 pairs of 20 datapoints\n",
    "# np.random.normal generates on the following parameters (mean, scale, size of array)\n",
    "# We are making (2, 20) array of data which is 2 columns of 20 datapoints\n",
    "\n",
    "data = np.random.normal(0, 1, (2,20))\n",
    "\n"
   ]
  },
  {
   "cell_type": "code",
   "execution_count": 6,
   "metadata": {},
   "outputs": [],
   "source": [
    "data_set1 = data[0]  # First row\n",
    "data_set2 = data[1]  # Second row"
   ]
  },
  {
   "cell_type": "code",
   "execution_count": 3,
   "metadata": {},
   "outputs": [
    {
     "data": {
      "text/plain": [
       "array([[-1.89359131e+00,  1.48809567e+00, -7.76405999e-02,\n",
       "        -6.26148551e-01,  1.54570800e+00, -1.23335410e+00,\n",
       "        -1.03452522e-01,  5.29659085e-01,  1.07891269e+00,\n",
       "        -1.47732956e+00, -1.91500031e+00, -1.03460467e-01,\n",
       "        -6.16435788e-01, -1.51301047e-01, -1.74074517e+00,\n",
       "         9.99603897e-01,  9.53378961e-01, -1.80623395e-03,\n",
       "        -2.05833239e-01,  2.05911447e-01],\n",
       "       [ 1.35119482e+00, -1.01289770e+00,  7.13864729e-01,\n",
       "         1.34500009e+00, -7.53874689e-01,  9.06222645e-02,\n",
       "        -1.66536039e+00,  1.18842506e-01,  4.46697777e-01,\n",
       "         1.86100850e+00,  9.69965726e-01,  2.42669839e-01,\n",
       "        -7.63011585e-01,  3.79126988e-01, -5.89609075e-02,\n",
       "        -1.83119322e+00,  3.15947420e-01,  1.09478030e+00,\n",
       "         1.87542350e-01,  3.40284208e-01]])"
      ]
     },
     "execution_count": 3,
     "metadata": {},
     "output_type": "execute_result"
    }
   ],
   "source": [
    "# see what the arrays look like\n",
    "# it should be an array that is a list of lists\n",
    "\n",
    "data"
   ]
  },
  {
   "cell_type": "code",
   "execution_count": 8,
   "metadata": {},
   "outputs": [
    {
     "data": {
      "image/png": "[encoded data removed]",
      "text/plain": [
       "<Figure size 640x480 with 1 Axes>"
      ]
     },
     "metadata": {},
     "output_type": "display_data"
    }
   ],
   "source": [
    "# Plot the data using plt.scatter()\n",
    "# Hint: you may need to index the data array!\n",
    "\n",
    "plt.scatter(range(20), data_set1, label='Data Set 1')\n",
    "plt.scatter(range(20), data_set2, label='Data Set 2')\n",
    "\n",
    "# Add labels and legend\n",
    "plt.xlabel('Data Point')\n",
    "plt.ylabel('Value')\n",
    "plt.legend()\n",
    "plt.show()"
   ]
  },
  {
   "cell_type": "code",
   "execution_count": 9,
   "metadata": {},
   "outputs": [],
   "source": [
    "# define our x and y using the 2 columns of data \n",
    "x = data[0]\n",
    "y = data[1]"
   ]
  },
  {
   "cell_type": "code",
   "execution_count": 10,
   "metadata": {},
   "outputs": [],
   "source": [
    "# do all the necessary calculations to get the correlation coefficient\n",
    "# use either numpy or statistics package\n",
    "# we will leave you to do it on your own and find your own way\n",
    "data = np.array([[-1.89359131, 1.48809567, -0.0776406, -0.62614855, 1.545708, -1.2333541, -0.103452522, 0.529659085, 1.07891269, -1.47732956, -1.91500031, -0.103460467, -0.616435788, -0.151301047, -1.74074517, 0.999603897, 0.953378961, -0.00180623395, -0.205833239, 0.205911447],\n",
    "                [1.35119482, -1.0128977, 0.713864729, 1.34500009, -0.753874689, 0.0906222645, -1.66536039, 0.118842506, 0.446697777, 1.8610085, 0.969965726, 0.242669839, -0.763011585, 0.379126988, -0.0589609075, -1.83119322, 0.31594742, 1.0947803, 1.8754235, 0.340284208]])\n",
    "\n",
    "\n",
    "# Here are some ideas for what you might want to use but these are not the only way!\n",
    "# np.sqrt()\n",
    "# np.mean()\n",
    "# sum()\n",
    "# for loops\n",
    "# range()"
   ]
  },
  {
   "cell_type": "code",
   "execution_count": 12,
   "metadata": {},
   "outputs": [
    {
     "data": {
      "text/plain": [
       "array([-0.16724146,  0.25300651])"
      ]
     },
     "execution_count": 12,
     "metadata": {},
     "output_type": "execute_result"
    }
   ],
   "source": [
    "mean_data = np.mean(data, axis=1)\n",
    "mean_data\n"
   ]
  },
  {
   "cell_type": "code",
   "execution_count": 13,
   "metadata": {},
   "outputs": [
    {
     "data": {
      "text/plain": [
       "array([[-1.72634985,  1.65533713,  0.08960086, -0.45890709,  1.71294946,\n",
       "        -1.06611264,  0.06378894,  0.69690054,  1.24615415, -1.3100881 ,\n",
       "        -1.74775885,  0.06378099, -0.44919433,  0.01594041, -1.57350371,\n",
       "         1.16684535,  1.12062042,  0.16543522, -0.03859178,  0.3731529 ],\n",
       "       [ 1.09818831, -1.26590421,  0.46085822,  1.09199358, -1.0068812 ,\n",
       "        -0.16238424, -1.9183669 , -0.134164  ,  0.19369127,  1.60800199,\n",
       "         0.71695922, -0.01033667, -1.01601809,  0.12612048, -0.31196742,\n",
       "        -2.08419973,  0.06294091,  0.84177379,  1.62241699,  0.0872777 ]])"
      ]
     },
     "execution_count": 13,
     "metadata": {},
     "output_type": "execute_result"
    }
   ],
   "source": [
    "deviation_data = data - mean_data[:, np.newaxis]\n",
    "deviation_data"
   ]
  },
  {
   "cell_type": "code",
   "execution_count": 14,
   "metadata": {},
   "outputs": [
    {
     "data": {
      "text/plain": [
       "array([-1.89585723e+00, -2.09549824e+00,  4.12932916e-02, -5.01123600e-01,\n",
       "       -1.72473660e+00,  1.73119896e-01, -1.22370582e-01, -9.34989663e-02,\n",
       "        2.41369177e-01, -2.10662428e+00, -1.25307182e+00, -6.59283037e-04,\n",
       "        4.56389568e-01,  2.01041219e-03,  4.90881888e-01, -2.43193877e+00,\n",
       "        7.05328702e-02,  1.39259035e-01, -6.26119623e-02,  3.25679269e-02])"
      ]
     },
     "execution_count": 14,
     "metadata": {},
     "output_type": "execute_result"
    }
   ],
   "source": [
    "product_deviations = deviation_data[0] * deviation_data[1]\n",
    "product_deviations"
   ]
  },
  {
   "cell_type": "code",
   "execution_count": 15,
   "metadata": {},
   "outputs": [],
   "source": [
    "sum_product_deviations = np.sum(product_deviations)\n",
    "sum_squared_deviations_data0 = np.sum(deviation_data[0] ** 2)\n",
    "sum_squared_deviations_data1 = np.sum(deviation_data[1] ** 2)"
   ]
  },
  {
   "cell_type": "code",
   "execution_count": 16,
   "metadata": {},
   "outputs": [
    {
     "name": "stdout",
     "output_type": "stream",
     "text": [
      "Correlation Coefficient: -0.49261527220278184\n"
     ]
    }
   ],
   "source": [
    "correlation_coefficient = sum_product_deviations / np.sqrt(sum_squared_deviations_data0 * sum_squared_deviations_data1)\n",
    "print(\"Correlation Coefficient:\", correlation_coefficient)"
   ]
  },
  {
   "cell_type": "code",
   "execution_count": 17,
   "metadata": {},
   "outputs": [
    {
     "data": {
      "text/html": [
       "<div>\n",
       "<style scoped>\n",
       "    .dataframe tbody tr th:only-of-type {\n",
       "        vertical-align: middle;\n",
       "    }\n",
       "\n",
       "    .dataframe tbody tr th {\n",
       "        vertical-align: top;\n",
       "    }\n",
       "\n",
       "    .dataframe thead th {\n",
       "        text-align: right;\n",
       "    }\n",
       "</style>\n",
       "<table border=\"1\" class=\"dataframe\">\n",
       "  <thead>\n",
       "    <tr style=\"text-align: right;\">\n",
       "      <th></th>\n",
       "      <th>col_1</th>\n",
       "      <th>col_2</th>\n",
       "    </tr>\n",
       "  </thead>\n",
       "  <tbody>\n",
       "    <tr>\n",
       "      <th>0</th>\n",
       "      <td>-1.893591</td>\n",
       "      <td>1.351195</td>\n",
       "    </tr>\n",
       "    <tr>\n",
       "      <th>1</th>\n",
       "      <td>1.488096</td>\n",
       "      <td>-1.012898</td>\n",
       "    </tr>\n",
       "    <tr>\n",
       "      <th>2</th>\n",
       "      <td>-0.077641</td>\n",
       "      <td>0.713865</td>\n",
       "    </tr>\n",
       "    <tr>\n",
       "      <th>3</th>\n",
       "      <td>-0.626149</td>\n",
       "      <td>1.345000</td>\n",
       "    </tr>\n",
       "    <tr>\n",
       "      <th>4</th>\n",
       "      <td>1.545708</td>\n",
       "      <td>-0.753875</td>\n",
       "    </tr>\n",
       "  </tbody>\n",
       "</table>\n",
       "</div>"
      ],
      "text/plain": [
       "      col_1     col_2\n",
       "0 -1.893591  1.351195\n",
       "1  1.488096 -1.012898\n",
       "2 -0.077641  0.713865\n",
       "3 -0.626149  1.345000\n",
       "4  1.545708 -0.753875"
      ]
     },
     "execution_count": 17,
     "metadata": {},
     "output_type": "execute_result"
    }
   ],
   "source": [
    "### Now do it in pandas\n",
    "## We will create the dataframe for you, but pay close attention to how\n",
    "df = pd.DataFrame({'col_1': data[0], 'col_2': data[1]})\n",
    "df.head()"
   ]
  },
  {
   "cell_type": "code",
   "execution_count": 18,
   "metadata": {},
   "outputs": [
    {
     "data": {
      "image/png": "[encoded data removed]",
      "text/plain": [
       "<Figure size 640x480 with 1 Axes>"
      ]
     },
     "metadata": {},
     "output_type": "display_data"
    }
   ],
   "source": [
    "## When plotting a scatterplot, we just choose the name of the columns\n",
    "## Since these are not variables, make sure to write column names as strings\n",
    "\n",
    "df.plot(x='col_1', y='col_2', kind='scatter');"
   ]
  },
  {
   "cell_type": "code",
   "execution_count": 19,
   "metadata": {},
   "outputs": [
    {
     "data": {
      "text/html": [
       "<div>\n",
       "<style scoped>\n",
       "    .dataframe tbody tr th:only-of-type {\n",
       "        vertical-align: middle;\n",
       "    }\n",
       "\n",
       "    .dataframe tbody tr th {\n",
       "        vertical-align: top;\n",
       "    }\n",
       "\n",
       "    .dataframe thead th {\n",
       "        text-align: right;\n",
       "    }\n",
       "</style>\n",
       "<table border=\"1\" class=\"dataframe\">\n",
       "  <thead>\n",
       "    <tr style=\"text-align: right;\">\n",
       "      <th></th>\n",
       "      <th>col_1</th>\n",
       "      <th>col_2</th>\n",
       "    </tr>\n",
       "  </thead>\n",
       "  <tbody>\n",
       "    <tr>\n",
       "      <th>col_1</th>\n",
       "      <td>1.000000</td>\n",
       "      <td>-0.492615</td>\n",
       "    </tr>\n",
       "    <tr>\n",
       "      <th>col_2</th>\n",
       "      <td>-0.492615</td>\n",
       "      <td>1.000000</td>\n",
       "    </tr>\n",
       "  </tbody>\n",
       "</table>\n",
       "</div>"
      ],
      "text/plain": [
       "          col_1     col_2\n",
       "col_1  1.000000 -0.492615\n",
       "col_2 -0.492615  1.000000"
      ]
     },
     "execution_count": 19,
     "metadata": {},
     "output_type": "execute_result"
    }
   ],
   "source": [
    "# we will use the df.corr() function\n",
    "# it compares the correlaton of each column to other columns\n",
    "# column1 will always have 1.0 correlation to itself (top left, [0,0])\n",
    "# column2 will always have 1.0 correlation to iteself (bottom right, [1,1])\n",
    "\n",
    "\n",
    "## Did you do the math right? Does your correlation match this correlation?\n",
    "\n",
    "df.corr()"
   ]
  },
  {
   "cell_type": "code",
   "execution_count": null,
   "metadata": {},
   "outputs": [],
   "source": [
    "# I tried my bestttttt"
   ]
  }
 ],
 "metadata": {
  "kernelspec": {
   "display_name": "base",
   "language": "python",
   "name": "python3"
  },
  "language_info": {
   "codemirror_mode": {
    "name": "ipython",
    "version": 3
   },
   "file_extension": ".py",
   "mimetype": "text/x-python",
   "name": "python",
   "nbconvert_exporter": "python",
   "pygments_lexer": "ipython3",
   "version": "3.9.18"
  },
  "orig_nbformat": 4
 },
 "nbformat": 4,
 "nbformat_minor": 2
}
